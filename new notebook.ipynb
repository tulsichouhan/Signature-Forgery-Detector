{
 "cells": [
  {
   "cell_type": "code",
   "execution_count": null,
   "metadata": {},
   "outputs": [],
   "source": []
  },
  {
   "cell_type": "code",
   "execution_count": 29,
   "metadata": {},
   "outputs": [],
   "source": [
    "import numpy as np\n",
    "import tensorflow as tf\n",
    "import cv2\n",
    "import os\n",
    "import glob\n",
    "import random\n",
    "from sklearn.model_selection import train_test_split\n",
    "import tensorflow.keras.backend as K\n",
    "from tensorflow.keras.layers import Input, Conv2D, MaxPooling2D, Flatten, Dense, Dropout, Lambda\n",
    "from tensorflow.keras.models import Model\n"
   ]
  },
  {
   "cell_type": "code",
   "execution_count": 30,
   "metadata": {},
   "outputs": [
    {
     "name": "stdout",
     "output_type": "stream",
     "text": [
      "Loaded 1320 original and 1320 forged signatures.\n"
     ]
    }
   ],
   "source": [
    "IMG_SIZE = (128, 128)\n",
    "\n",
    "# Function to load images from a folder\n",
    "def load_images(folder):\n",
    "    images = []\n",
    "    for img_path in glob.glob(os.path.join(folder, \"*.png\")):\n",
    "        img = cv2.imread(img_path, cv2.IMREAD_GRAYSCALE)\n",
    "        if img is None:\n",
    "            continue\n",
    "        img = cv2.resize(img, IMG_SIZE) / 255.0  # Resize and normalize\n",
    "        images.append(img)\n",
    "    return np.array(images)\n",
    "\n",
    "# Load datasets\n",
    "original_images = load_images(\"signatures/full_org\")\n",
    "forged_images = load_images(\"signatures/full_forg\")\n",
    "\n",
    "# Reshape for CNN input\n",
    "original_images = original_images.reshape(original_images.shape[0], 128, 128, 1)\n",
    "forged_images = forged_images.reshape(forged_images.shape[0], 128, 128, 1)\n",
    "\n",
    "print(f\"Loaded {original_images.shape[0]} original and {forged_images.shape[0]} forged signatures.\")\n",
    "\n"
   ]
  },
  {
   "cell_type": "code",
   "execution_count": 31,
   "metadata": {},
   "outputs": [
    {
     "name": "stdout",
     "output_type": "stream",
     "text": [
      "Training Pairs: 2111, Testing Pairs: 528\n"
     ]
    }
   ],
   "source": [
    "def create_pairs(original, forged):\n",
    "    pairs = []\n",
    "    labels = []\n",
    "    \n",
    "    # Create positive pairs (Same person)\n",
    "    for i in range(len(original) - 1):\n",
    "        pairs.append([original[i], original[i+1]])\n",
    "        labels.append(1)  # Same signature\n",
    "    \n",
    "    # Create negative pairs (Forgery)\n",
    "    for i in range(len(original)):\n",
    "        pairs.append([original[i], random.choice(forged)])\n",
    "        labels.append(0)  # Different signature\n",
    "    \n",
    "    return np.array(pairs), np.array(labels)\n",
    "\n",
    "# Generate training pairs\n",
    "pairs, labels = create_pairs(original_images, forged_images)\n",
    "\n",
    "# Shuffle and split data\n",
    "from sklearn.utils import shuffle\n",
    "pairs, labels = shuffle(pairs, labels, random_state=42)\n",
    "X_train, X_test, y_train, y_test = train_test_split(pairs, labels, test_size=0.2, random_state=42)\n",
    "\n",
    "print(f\"Training Pairs: {X_train.shape[0]}, Testing Pairs: {X_test.shape[0]}\")\n"
   ]
  },
  {
   "cell_type": "code",
   "execution_count": 33,
   "metadata": {},
   "outputs": [
    {
     "name": "stdout",
     "output_type": "stream",
     "text": [
      "Epoch 1/10\n",
      "\u001b[1m66/66\u001b[0m \u001b[32m━━━━━━━━━━━━━━━━━━━━\u001b[0m\u001b[37m\u001b[0m \u001b[1m33s\u001b[0m 478ms/step - accuracy: 0.4948 - loss: 0.6963 - val_accuracy: 0.5095 - val_loss: 0.6933\n",
      "Epoch 2/10\n",
      "\u001b[1m66/66\u001b[0m \u001b[32m━━━━━━━━━━━━━━━━━━━━\u001b[0m\u001b[37m\u001b[0m \u001b[1m32s\u001b[0m 483ms/step - accuracy: 0.4701 - loss: 0.6944 - val_accuracy: 0.5095 - val_loss: 0.6932\n",
      "Epoch 3/10\n",
      "\u001b[1m66/66\u001b[0m \u001b[32m━━━━━━━━━━━━━━━━━━━━\u001b[0m\u001b[37m\u001b[0m \u001b[1m31s\u001b[0m 472ms/step - accuracy: 0.5083 - loss: 0.6931 - val_accuracy: 0.5095 - val_loss: 0.6931\n",
      "Epoch 4/10\n",
      "\u001b[1m66/66\u001b[0m \u001b[32m━━━━━━━━━━━━━━━━━━━━\u001b[0m\u001b[37m\u001b[0m \u001b[1m66s\u001b[0m 1s/step - accuracy: 0.5004 - loss: 0.6932 - val_accuracy: 0.5095 - val_loss: 0.6931\n",
      "Epoch 5/10\n",
      "\u001b[1m66/66\u001b[0m \u001b[32m━━━━━━━━━━━━━━━━━━━━\u001b[0m\u001b[37m\u001b[0m \u001b[1m31s\u001b[0m 457ms/step - accuracy: 0.4879 - loss: 0.6933 - val_accuracy: 0.5095 - val_loss: 0.6931\n",
      "Epoch 6/10\n",
      "\u001b[1m66/66\u001b[0m \u001b[32m━━━━━━━━━━━━━━━━━━━━\u001b[0m\u001b[37m\u001b[0m \u001b[1m32s\u001b[0m 483ms/step - accuracy: 0.4996 - loss: 0.6932 - val_accuracy: 0.5095 - val_loss: 0.6931\n",
      "Epoch 7/10\n",
      "\u001b[1m66/66\u001b[0m \u001b[32m━━━━━━━━━━━━━━━━━━━━\u001b[0m\u001b[37m\u001b[0m \u001b[1m34s\u001b[0m 510ms/step - accuracy: 0.5073 - loss: 0.6931 - val_accuracy: 0.5095 - val_loss: 0.6931\n",
      "Epoch 8/10\n",
      "\u001b[1m66/66\u001b[0m \u001b[32m━━━━━━━━━━━━━━━━━━━━\u001b[0m\u001b[37m\u001b[0m \u001b[1m35s\u001b[0m 537ms/step - accuracy: 0.4801 - loss: 0.6932 - val_accuracy: 0.5095 - val_loss: 0.6931\n",
      "Epoch 9/10\n",
      "\u001b[1m66/66\u001b[0m \u001b[32m━━━━━━━━━━━━━━━━━━━━\u001b[0m\u001b[37m\u001b[0m \u001b[1m37s\u001b[0m 566ms/step - accuracy: 0.5052 - loss: 0.6931 - val_accuracy: 0.4905 - val_loss: 0.6932\n",
      "Epoch 10/10\n",
      "\u001b[1m66/66\u001b[0m \u001b[32m━━━━━━━━━━━━━━━━━━━━\u001b[0m\u001b[37m\u001b[0m \u001b[1m38s\u001b[0m 571ms/step - accuracy: 0.4766 - loss: 0.6932 - val_accuracy: 0.4905 - val_loss: 0.6932\n"
     ]
    }
   ],
   "source": [
    "# Define CNN feature extractor\n",
    "def build_base_network(input_shape):\n",
    "    model = tf.keras.Sequential([\n",
    "        Conv2D(64, (3,3), activation='relu', input_shape=input_shape),\n",
    "        MaxPooling2D(pool_size=(2,2)),\n",
    "        \n",
    "        Conv2D(128, (3,3), activation='relu'),\n",
    "        MaxPooling2D(pool_size=(2,2)),\n",
    "        \n",
    "        Conv2D(256, (3,3), activation='relu'),\n",
    "        MaxPooling2D(pool_size=(2,2)),\n",
    "        \n",
    "        Flatten(),\n",
    "        Dense(256, activation='relu'),\n",
    "        Dropout(0.5),\n",
    "        Dense(128, activation='relu')\n",
    "    ])\n",
    "    return model\n",
    "\n",
    "# Input layers\n",
    "input_shape = (128, 128, 1)\n",
    "input_A = Input(shape=input_shape)\n",
    "input_B = Input(shape=input_shape)\n",
    "\n",
    "# Shared CNN feature extractor\n",
    "base_network = build_base_network(input_shape)\n",
    "\n",
    "# Generate feature vectors\n",
    "feat_A = base_network(input_A)\n",
    "feat_B = base_network(input_B)\n",
    "\n",
    "# Lambda layer to compute Euclidean distance\n",
    "def euclidean_distance(vectors):\n",
    "    x, y = vectors\n",
    "    return K.sqrt(K.sum(K.square(x - y), axis=1, keepdims=True))\n",
    "\n",
    "distance = Lambda(euclidean_distance)([feat_A, feat_B])\n",
    "\n",
    "# Fully connected layer for classification\n",
    "output = Dense(1, activation=\"sigmoid\")(distance)\n",
    "\n",
    "# Create Siamese model\n",
    "siamese_model = Model(inputs=[input_A, input_B], outputs=output)\n",
    "\n",
    "# Compile model\n",
    "siamese_model.compile(loss=\"binary_crossentropy\", optimizer=\"adam\", metrics=[\"accuracy\"])\n",
    "\n",
    "# Train model\n",
    "history = siamese_model.fit(\n",
    "    [X_train[:, 0], X_train[:, 1]], y_train, \n",
    "    epochs=10, batch_size=32, validation_data=([X_test[:, 0], X_test[:, 1]], y_test)\n",
    ")\n"
   ]
  },
  {
   "cell_type": "code",
   "execution_count": 35,
   "metadata": {},
   "outputs": [
    {
     "name": "stdout",
     "output_type": "stream",
     "text": [
      "\u001b[1m17/17\u001b[0m \u001b[32m━━━━━━━━━━━━━━━━━━━━\u001b[0m\u001b[37m\u001b[0m \u001b[1m2s\u001b[0m 128ms/step - accuracy: 0.5174 - loss: 0.6931\n",
      "Test Accuracy: 0.49\n"
     ]
    }
   ],
   "source": [
    "# Evaluate model on test data\n",
    "test_loss, test_acc = siamese_model.evaluate([X_test[:, 0], X_test[:, 1]], y_test)\n",
    "print(f\"Test Accuracy: {test_acc:.2f}\")\n"
   ]
  },
  {
   "cell_type": "code",
   "execution_count": 37,
   "metadata": {},
   "outputs": [
    {
     "name": "stdout",
     "output_type": "stream",
     "text": [
      "\u001b[1m1/1\u001b[0m \u001b[32m━━━━━━━━━━━━━━━━━━━━\u001b[0m\u001b[37m\u001b[0m \u001b[1m0s\u001b[0m 57ms/step\n",
      "Similarity Score: 0.5006\n",
      "Prediction: Different Person (Forgery)\n"
     ]
    }
   ],
   "source": [
    "def predict_signature(img1_path, img2_path):\n",
    "    # Load and preprocess both images\n",
    "    img1 = cv2.imread(img1_path, cv2.IMREAD_GRAYSCALE)\n",
    "    img2 = cv2.imread(img2_path, cv2.IMREAD_GRAYSCALE)\n",
    "\n",
    "    if img1 is None or img2 is None:\n",
    "        print(\"Error loading images. Check the file paths.\")\n",
    "        return\n",
    "\n",
    "    # Resize and normalize images\n",
    "    img1 = cv2.resize(img1, IMG_SIZE) / 255.0\n",
    "    img2 = cv2.resize(img2, IMG_SIZE) / 255.0\n",
    "\n",
    "    # Reshape for model input\n",
    "    img1 = img1.reshape(1, 128, 128, 1)\n",
    "    img2 = img2.reshape(1, 128, 128, 1)\n",
    "\n",
    "    # Predict similarity\n",
    "    similarity_score = siamese_model.predict([img1, img2])[0][0]\n",
    "\n",
    "    # Define threshold\n",
    "    threshold = 0.4  \n",
    "    result = \"Same Person (Match)\" if similarity_score < threshold else \"Different Person (Forgery)\"\n",
    "\n",
    "    print(f\"Similarity Score: {similarity_score:.4f}\")\n",
    "    print(f\"Prediction: {result}\")\n",
    "\n",
    "# Example usage: Compare two new signatures\n",
    "predict_signature(\"original.png\", \"test.png\")\n"
   ]
  },
  {
   "cell_type": "code",
   "execution_count": 38,
   "metadata": {},
   "outputs": [
    {
     "name": "stderr",
     "output_type": "stream",
     "text": [
      "WARNING:absl:You are saving your model as an HDF5 file via `model.save()` or `keras.saving.save_model(model)`. This file format is considered legacy. We recommend using instead the native Keras format, e.g. `model.save('my_model.keras')` or `keras.saving.save_model(model, 'my_model.keras')`. \n"
     ]
    },
    {
     "name": "stdout",
     "output_type": "stream",
     "text": [
      "Model saved successfully!\n"
     ]
    }
   ],
   "source": [
    "# Save the trained Siamese model\n",
    "siamese_model.save(\"siamese_model.h5\")\n",
    "print(\"Model saved successfully!\")\n"
   ]
  },
  {
   "cell_type": "code",
   "execution_count": null,
   "metadata": {},
   "outputs": [],
   "source": []
  }
 ],
 "metadata": {
  "kernelspec": {
   "display_name": "venv",
   "language": "python",
   "name": "python3"
  },
  "language_info": {
   "codemirror_mode": {
    "name": "ipython",
    "version": 3
   },
   "file_extension": ".py",
   "mimetype": "text/x-python",
   "name": "python",
   "nbconvert_exporter": "python",
   "pygments_lexer": "ipython3",
   "version": "3.9.7"
  }
 },
 "nbformat": 4,
 "nbformat_minor": 2
}
